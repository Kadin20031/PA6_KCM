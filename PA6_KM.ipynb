{
 "cells": [
  {
   "cell_type": "markdown",
   "id": "8af9ae22",
   "metadata": {},
   "source": [
    "### Programming Assignment 6\n",
    "### Kadin McWilliams\n",
    "### Version 1\n",
    "### Fall 2023"
   ]
  },
  {
   "cell_type": "markdown",
   "id": "54d55662",
   "metadata": {},
   "source": [
    "## Task 1 \n",
    "Write a Python program will calculate the area and perimeter of a triangle using two different functions named calcArea() and calcPerimeter(). Your program should prompt the user for the length of three sides of the triangle. Each function should take the lengths of the sides as arguments and return the output of their respective calculations. As an added feature, set the default values of your parameters to 1 so if you call either function without parameters, it will still produce output) (I recommend using Heron’s Method for calculating the area of a triangle.)"
   ]
  },
  {
   "cell_type": "code",
   "execution_count": 15,
   "id": "34f22d5c",
   "metadata": {},
   "outputs": [
    {
     "name": "stdout",
     "output_type": "stream",
     "text": [
      "0.4330127018922193\n",
      "3\n",
      "Enter side A of the triangle: 5\n",
      "Enter side B of the triangle: 5\n",
      "Enter side C of the triangle: 5\n",
      "The area of the triangle is approximately 10.825317547305483 square units\n",
      "The perimeter of the triangle is 15.0 linear units\n"
     ]
    }
   ],
   "source": [
    "import math\n",
    "a=1\n",
    "b=1\n",
    "c=1\n",
    "def calcArea():\n",
    "    s=(a+b+c)/2\n",
    "    return math.sqrt(s*(s-a)*(s-b)*(s-c))\n",
    "def calcPerimeter():\n",
    "    return a+b+c\n",
    "print(calcArea())\n",
    "print(calcPerimeter())\n",
    "a=float(input(\"Enter side A of the triangle: \"))\n",
    "b=float(input(\"Enter side B of the triangle: \"))\n",
    "c=float(input(\"Enter side C of the triangle: \"))\n",
    "print(f\"The area of the triangle is approximately {calcArea()} square units\")\n",
    "print(f\"The perimeter of the triangle is {calcPerimeter()} linear units\")\n"
   ]
  },
  {
   "cell_type": "markdown",
   "id": "677109b3",
   "metadata": {},
   "source": [
    "##### Task 2 \n",
    "Write a Python program to play “Guess the Number”. Your program should generate a random\n",
    "number between 1 and 1000 and then prompt the user for a guess. Possible responses to the guess should be\n",
    "‘Too high! Guess again’, ‘Too low! Guess again’, and ‘Correct!’."
   ]
  },
  {
   "cell_type": "code",
   "execution_count": 5,
   "id": "55f15835",
   "metadata": {},
   "outputs": [
    {
     "name": "stdout",
     "output_type": "stream",
     "text": [
      "Enter your guess: 1000\n",
      "Too high! Guess again\n",
      "Enter your guess: 900\n",
      "Too high! Guess again\n",
      "Enter your guess: 800\n",
      "Too high! Guess again\n",
      "Enter your guess: 700\n",
      "Too high! Guess again\n",
      "Enter your guess: 600\n",
      "Too high! Guess again\n",
      "Enter your guess: 500\n",
      "Too high! Guess again\n",
      "Enter your guess: 300\n",
      "Too low! Guess again\n",
      "Enter your guess: 400\n",
      "Too high! Guess again\n",
      "Enter your guess: 333\n",
      "Too low! Guess again\n",
      "Enter your guess: 350\n",
      "Too low! Guess again\n",
      "Enter your guess: 360\n",
      "Too low! Guess again\n",
      "Enter your guess: 370\n",
      "Too low! Guess again\n",
      "Enter your guess: 380\n",
      "Correct!\n"
     ]
    }
   ],
   "source": [
    "import random\n",
    "number=random.randrange(1,1001)\n",
    "inputt=int(input(\"Enter your guess: \"))\n",
    "while inputt!=number:\n",
    "        if inputt<number:\n",
    "            print(\"Too low! Guess again\")\n",
    "            inputt=int(input(\"Enter your guess: \"))\n",
    "        elif inputt>number:\n",
    "            print(\"Too high! Guess again\")\n",
    "            inputt=int(input(\"Enter your guess: \"))\n",
    "        else: \n",
    "            break\n",
    "print(\"Correct!\")  "
   ]
  },
  {
   "cell_type": "markdown",
   "id": "40acb84b",
   "metadata": {},
   "source": [
    "## Task 3\n",
    "Write a Python program to calculate the mean temperature over a set of Fahrenheit temperature\n",
    "values. Your program should calculate the mean in a function called meanTemp()and then print message that\n",
    "indicates the number of days your mean represents and the mean (see below). Your function should be flexible\n",
    "so that you can pass any number of temperatures to it. You do not need to get input from the user; simply\n",
    "include the temperatures in the function parameter list"
   ]
  },
  {
   "cell_type": "code",
   "execution_count": 10,
   "id": "3f733ded",
   "metadata": {},
   "outputs": [
    {
     "name": "stdout",
     "output_type": "stream",
     "text": [
      "The average temperature for the past 4 days is 68.25\n",
      "The average temperature for the past 5 days is 75.0\n"
     ]
    }
   ],
   "source": [
    "def meanTemp(*args):\n",
    "    print(f\"The average temperature for the past {len(args)} days is {sum(args)/len(args)}\")\n",
    "\n",
    "meanTemp(10,30,203,30)\n",
    "meanTemp(74,83,90,69,59)"
   ]
  },
  {
   "cell_type": "code",
   "execution_count": null,
   "id": "cfabdb4b",
   "metadata": {},
   "outputs": [],
   "source": []
  }
 ],
 "metadata": {
  "kernelspec": {
   "display_name": "Python 3 (ipykernel)",
   "language": "python",
   "name": "python3"
  },
  "language_info": {
   "codemirror_mode": {
    "name": "ipython",
    "version": 3
   },
   "file_extension": ".py",
   "mimetype": "text/x-python",
   "name": "python",
   "nbconvert_exporter": "python",
   "pygments_lexer": "ipython3",
   "version": "3.11.4"
  }
 },
 "nbformat": 4,
 "nbformat_minor": 5
}
